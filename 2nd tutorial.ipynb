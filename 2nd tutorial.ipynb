{
 "cells": [
  {
   "cell_type": "code",
   "execution_count": 1,
   "id": "5c1674be",
   "metadata": {},
   "outputs": [
    {
     "name": "stdout",
     "output_type": "stream",
     "text": [
      "0\n",
      "1\n",
      "2\n",
      "3\n",
      "4\n"
     ]
    }
   ],
   "source": [
    "number=0\n",
    "\n",
    "while number<5:\n",
    "    print(number)\n",
    "    number= number+1"
   ]
  },
  {
   "cell_type": "code",
   "execution_count": 2,
   "id": "175bf8e9",
   "metadata": {},
   "outputs": [
    {
     "name": "stdout",
     "output_type": "stream",
     "text": [
      "0\n",
      "1\n",
      "2\n",
      "3\n",
      "4\n"
     ]
    }
   ],
   "source": [
    "number=0\n",
    "\n",
    "while number<5:\n",
    "    print(number)\n",
    "    number= number+1"
   ]
  },
  {
   "cell_type": "code",
   "execution_count": 4,
   "id": "f3181a60",
   "metadata": {},
   "outputs": [
    {
     "name": "stdout",
     "output_type": "stream",
     "text": [
      "0\n",
      "1\n",
      "2\n",
      "3\n"
     ]
    }
   ],
   "source": [
    "number=0\n",
    "\n",
    "while number<5:\n",
    "    print(number)\n",
    "    if number==3:\n",
    "        break\n",
    "    number= number+1\n",
    "else:\n",
    "    print('no longer <5')"
   ]
  },
  {
   "cell_type": "code",
   "execution_count": 5,
   "id": "b7044a8c",
   "metadata": {},
   "outputs": [
    {
     "name": "stdout",
     "output_type": "stream",
     "text": [
      "We did it!\n"
     ]
    }
   ],
   "source": [
    "def first_funct():\n",
    "    print('We did it!')\n",
    "\n",
    "first_funct()"
   ]
  },
  {
   "cell_type": "code",
   "execution_count": 6,
   "id": "8b1901b1",
   "metadata": {},
   "outputs": [],
   "source": [
    "def number_squared(number):\n",
    "    print(number**2)"
   ]
  },
  {
   "cell_type": "code",
   "execution_count": 7,
   "id": "d5d27948",
   "metadata": {},
   "outputs": [
    {
     "name": "stdout",
     "output_type": "stream",
     "text": [
      "25\n"
     ]
    }
   ],
   "source": [
    "number_squared(5)"
   ]
  },
  {
   "cell_type": "code",
   "execution_count": 8,
   "id": "0fed506c",
   "metadata": {},
   "outputs": [],
   "source": [
    "def number_squared(number,power):\n",
    "    print(number**power)"
   ]
  },
  {
   "cell_type": "code",
   "execution_count": 10,
   "id": "561539f5",
   "metadata": {},
   "outputs": [
    {
     "name": "stdout",
     "output_type": "stream",
     "text": [
      "25\n"
     ]
    }
   ],
   "source": [
    "number_squared(5,2)"
   ]
  },
  {
   "cell_type": "code",
   "execution_count": 11,
   "id": "da9c332d",
   "metadata": {},
   "outputs": [],
   "source": [
    "args_tuple=(5,6,1,2,8)\n",
    "def number_args(*number):\n",
    "    print(number[0]*number[1])"
   ]
  },
  {
   "cell_type": "code",
   "execution_count": 12,
   "id": "aad74d08",
   "metadata": {},
   "outputs": [
    {
     "name": "stdout",
     "output_type": "stream",
     "text": [
      "30\n"
     ]
    }
   ],
   "source": [
    "number_args(*args_tuple)"
   ]
  },
  {
   "cell_type": "code",
   "execution_count": 13,
   "id": "bd1e887c",
   "metadata": {},
   "outputs": [],
   "source": [
    "def number_squared(number,power):\n",
    "    print(number**power)"
   ]
  },
  {
   "cell_type": "code",
   "execution_count": 14,
   "id": "7302723f",
   "metadata": {},
   "outputs": [
    {
     "name": "stdout",
     "output_type": "stream",
     "text": [
      "25\n"
     ]
    }
   ],
   "source": [
    "number_squared(number=5,power=2)"
   ]
  },
  {
   "cell_type": "code",
   "execution_count": 18,
   "id": "8efe2340",
   "metadata": {},
   "outputs": [],
   "source": [
    "def number_squared(**number):\n",
    "    print('My number is:',number[int1],'my other number:',number[int2])"
   ]
  },
  {
   "cell_type": "code",
   "execution_count": 19,
   "id": "454368f4",
   "metadata": {},
   "outputs": [
    {
     "name": "stdout",
     "output_type": "stream",
     "text": [
      "My number is: 10 my other number: 20\n"
     ]
    }
   ],
   "source": [
    "number_squared(int1='10',int2='20')"
   ]
  },
  {
   "cell_type": "code",
   "execution_count": 21,
   "id": "d292245b",
   "metadata": {},
   "outputs": [
    {
     "ename": "TypeError",
     "evalue": "unsupported operand type(s) for +: 'int' and 'str'",
     "output_type": "error",
     "traceback": [
      "\u001b[1;31m---------------------------------------------------------------------------\u001b[0m",
      "\u001b[1;31mTypeError\u001b[0m                                 Traceback (most recent call last)",
      "Cell \u001b[1;32mIn[21], line 3\u001b[0m\n\u001b[0;32m      1\u001b[0m num_int\u001b[38;5;241m=\u001b[39m\u001b[38;5;241m7\u001b[39m\n\u001b[0;32m      2\u001b[0m numb_str\u001b[38;5;241m=\u001b[39m\u001b[38;5;124m'\u001b[39m\u001b[38;5;124m8\u001b[39m\u001b[38;5;124m'\u001b[39m\n\u001b[1;32m----> 3\u001b[0m num_sum\u001b[38;5;241m=\u001b[39mnum_int\u001b[38;5;241m+\u001b[39mnumb_str\n",
      "\u001b[1;31mTypeError\u001b[0m: unsupported operand type(s) for +: 'int' and 'str'"
     ]
    }
   ],
   "source": [
    "num_int=7\n",
    "numb_str='8'\n",
    "num_sum=num_int+numb_str"
   ]
  },
  {
   "cell_type": "code",
   "execution_count": 23,
   "id": "0324edd7",
   "metadata": {},
   "outputs": [
    {
     "name": "stdout",
     "output_type": "stream",
     "text": [
      "15\n"
     ]
    },
    {
     "data": {
      "text/plain": [
       "int"
      ]
     },
     "execution_count": 23,
     "metadata": {},
     "output_type": "execute_result"
    }
   ],
   "source": [
    "num_str_conv=int(numb_str)\n",
    "num_sum=num_int+num_str_conv\n",
    "print(num_sum)\n",
    "type(num_sum)"
   ]
  },
  {
   "cell_type": "code",
   "execution_count": 26,
   "id": "59d8e142",
   "metadata": {},
   "outputs": [
    {
     "name": "stdout",
     "output_type": "stream",
     "text": [
      "range(1, 10)\n",
      "even is [0, 2, 4, 6, 8]\n",
      "odd is [1, 3, 5, 7, 9]\n"
     ]
    }
   ],
   "source": [
    "decimals=range(1,10)\n",
    "even=list(range(0,10,2))\n",
    "odd=list(range(1,10,2))\n",
    "print(decimals)\n",
    "print('even is',even)\n",
    "print('odd is',odd)\n"
   ]
  },
  {
   "cell_type": "code",
   "execution_count": null,
   "id": "0afc1c10",
   "metadata": {},
   "outputs": [],
   "source": []
  },
  {
   "cell_type": "code",
   "execution_count": null,
   "id": "8fb603de",
   "metadata": {},
   "outputs": [],
   "source": []
  }
 ],
 "metadata": {
  "kernelspec": {
   "display_name": "Python 3 (ipykernel)",
   "language": "python",
   "name": "python3"
  },
  "language_info": {
   "codemirror_mode": {
    "name": "ipython",
    "version": 3
   },
   "file_extension": ".py",
   "mimetype": "text/x-python",
   "name": "python",
   "nbconvert_exporter": "python",
   "pygments_lexer": "ipython3",
   "version": "3.11.5"
  }
 },
 "nbformat": 4,
 "nbformat_minor": 5
}
